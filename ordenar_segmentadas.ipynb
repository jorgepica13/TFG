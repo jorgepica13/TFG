{
 "cells": [
  {
   "cell_type": "code",
   "execution_count": 13,
   "id": "cfdf975b",
   "metadata": {},
   "outputs": [
    {
     "data": {
      "text/plain": [
       "100"
      ]
     },
     "execution_count": 13,
     "metadata": {},
     "output_type": "execute_result"
    }
   ],
   "source": [
    "import os\n",
    "\n",
    "path= 'C:/Users/jorge/Desktop/DATASET/test/uncertain/'\n",
    "contents = os.listdir(path)\n",
    "\n",
    "images = []\n",
    "\n",
    "for file in contents:\n",
    "    filename = os.path.join(path, file)\n",
    "    if os.path.isfile(filename) and file.endswith('.jpg'):\n",
    "        # print(file)\n",
    "        images.append(file)\n",
    "        \n",
    "len(images)"
   ]
  },
  {
   "cell_type": "code",
   "execution_count": 14,
   "id": "a4f3f7f1",
   "metadata": {},
   "outputs": [],
   "source": [
    "import shutil\n",
    "\n",
    "path_source = 'C:/Users/jorge/Desktop/galaxy_binary_seg/restored_segmented_images/'\n",
    "path_dest = 'C:/Users/jorge/Desktop/seg_images_restored/uncertain/'\n",
    "\n",
    "# aux = 0\n",
    "for file in images:\n",
    "    source = os.path.join(path_source, file)\n",
    "    if os.path.isfile(filename) and file.endswith('.jpg'):\n",
    "        # print(filename)\n",
    "        # aux += 1\n",
    "        dest = os.path.join(path_dest, file)\n",
    "        shutil.copy(source, dest)\n",
    "        \n",
    "# aux"
   ]
  },
  {
   "cell_type": "code",
   "execution_count": null,
   "id": "911af24e",
   "metadata": {},
   "outputs": [],
   "source": []
  }
 ],
 "metadata": {
  "kernelspec": {
   "display_name": "Python 3 (ipykernel)",
   "language": "python",
   "name": "python3"
  },
  "language_info": {
   "codemirror_mode": {
    "name": "ipython",
    "version": 3
   },
   "file_extension": ".py",
   "mimetype": "text/x-python",
   "name": "python",
   "nbconvert_exporter": "python",
   "pygments_lexer": "ipython3",
   "version": "3.10.9"
  }
 },
 "nbformat": 4,
 "nbformat_minor": 5
}
