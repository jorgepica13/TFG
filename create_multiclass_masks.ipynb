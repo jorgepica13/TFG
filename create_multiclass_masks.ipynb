{
 "cells": [
  {
   "cell_type": "code",
   "execution_count": 1,
   "id": "a97466bc",
   "metadata": {},
   "outputs": [
    {
     "data": {
      "text/plain": [
       "29995"
      ]
     },
     "execution_count": 1,
     "metadata": {},
     "output_type": "execute_result"
    }
   ],
   "source": [
    "import json\n",
    "\n",
    "dic_points = {}\n",
    "  \n",
    "# Opening JSON file\n",
    "f = open(r\"C:\\Users\\jorge\\Desktop\\all_via_region_data.json\")\n",
    "\n",
    "# returns JSON object as \n",
    "# a dictionary\n",
    "data = json.load(f)\n",
    "\n",
    "dic_points = {}\n",
    "ids_images = []\n",
    "\n",
    "# Iterating through the json\n",
    "# list\n",
    "for key, value in data.items():\n",
    "    regions = value[\"regions\"]\n",
    "    filename = value[\"filename\"]\n",
    "    file = filename[-26:]\n",
    "    for it in regions:\n",
    "        it = it[\"shape_attributes\"]\n",
    "        px = it[\"all_points_x\"]\n",
    "        py = it[\"all_points_y\"]\n",
    "        poly = [(x + 0.5, y + 0.5) for x, y in zip(px, py)]\n",
    "        # poly = [p for x in poly for p in x]\n",
    "        # poly = np.array(poly)\n",
    "\n",
    "        dic_points[file] = [poly]\n",
    "        ids_images.append(file[4:22])\n",
    "\n",
    "# Closing file\n",
    "f.close()\n",
    "\n",
    "len(dic_points)"
   ]
  },
  {
   "cell_type": "code",
   "execution_count": 2,
   "id": "30f0a8e4",
   "metadata": {},
   "outputs": [],
   "source": [
    "import cv2\n",
    "import numpy as np\n",
    "import csv, os, shutil\n",
    "\n",
    "path_source = r'C:/Users/jorge/Desktop/ALL_IMAGES_JSON/'\n",
    "path_dest = r'C:/Users/jorge/Desktop/ALL_IMAGES_JSON_MASKS/'\n",
    "\n",
    "with open(r'C:\\Users\\jorge\\Desktop\\GalaxyZoo1_DR_table2.csv', newline='') as File:\n",
    "    reader = csv.reader(File)\n",
    "    for row in reader:\n",
    "        if row[0] in ids_images:\n",
    "            key = 'Dr7_' + row[0] + '.jpg'\n",
    "            file_source = path_source + key\n",
    "            if os.path.isfile(file_source):\n",
    "                im = cv2.imread(file_source)\n",
    "                pts = np.array(dic_points[key], np.int32)\n",
    "                mask = np.zeros((im.shape[0], im.shape[1], im.shape[2]), np.float64)\n",
    "                \n",
    "                color = (0, 0, 0)\n",
    "                if int(row[13]) == 1:\n",
    "                    color = (128, 128, 128)\n",
    "                elif int(row[14]) == 1:\n",
    "                    color = (100, 100, 100)\n",
    "                elif int(row[15]) == 1:\n",
    "                    color = (194, 194, 194)\n",
    "                \n",
    "                for i in range(im.shape[0]):\n",
    "                    for j in range(im.shape[1]):\n",
    "                        if cv2.pointPolygonTest(pts, [j,i], False) != -1.0:\n",
    "                            mask[i,j,:] = color\n",
    "                \n",
    "                file_dest = path_dest + 'Dr7_' + row[0] + '.png'\n",
    "                cv2.imwrite(file_dest, mask)"
   ]
  },
  {
   "cell_type": "code",
   "execution_count": null,
   "id": "18158693",
   "metadata": {},
   "outputs": [],
   "source": []
  }
 ],
 "metadata": {
  "kernelspec": {
   "display_name": "Python 3 (ipykernel)",
   "language": "python",
   "name": "python3"
  },
  "language_info": {
   "codemirror_mode": {
    "name": "ipython",
    "version": 3
   },
   "file_extension": ".py",
   "mimetype": "text/x-python",
   "name": "python",
   "nbconvert_exporter": "python",
   "pygments_lexer": "ipython3",
   "version": "3.10.9"
  }
 },
 "nbformat": 4,
 "nbformat_minor": 5
}
