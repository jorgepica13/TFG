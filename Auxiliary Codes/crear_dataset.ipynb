{
 "cells": [
  {
   "cell_type": "code",
   "execution_count": 16,
   "id": "a4862654",
   "metadata": {},
   "outputs": [],
   "source": [
    "TRAIN_SIZE = 1000\n",
    "TEST_SIZE = 100\n",
    "\n",
    "trainset = 0\n",
    "testset = 0"
   ]
  },
  {
   "cell_type": "code",
   "execution_count": 17,
   "id": "3f233a64",
   "metadata": {},
   "outputs": [],
   "source": [
    "# Cell for the choice of x images for the study\n",
    "\n",
    "import json\n",
    "\n",
    "# Opening JSON file\n",
    "f = open(r\"C:\\Users\\jorge\\Desktop\\archivosJSON\\train_via_region_data.json\")\n",
    "\n",
    "# returns JSON object as a dictionary\n",
    "data_train = json.load(f)\n",
    "\n",
    "import random\n",
    "images = random.sample(range(0, len(data_train.keys())-1), 10000)\n",
    "\n",
    "train_images = []\n",
    "aux = 0\n",
    "\n",
    "# Iterating through the json list\n",
    "for i in data_train:\n",
    "    if aux in images:\n",
    "        train_images.append(i)\n",
    "\n",
    "    aux = aux + 1\n",
    "\n",
    "#Closing file\n",
    "f.close()"
   ]
  },
  {
   "cell_type": "code",
   "execution_count": 7,
   "id": "0d7ed97c",
   "metadata": {},
   "outputs": [],
   "source": [
    "# Creation of the json file of the selected images\n",
    "\n",
    "ini = \"{\\\"\"\n",
    "post_key = \"\\\":\"\n",
    "sep = \",\\n\\\"\"\n",
    "fin = \"}\"\n",
    "\n",
    "aux = 0\n",
    "max = len(train_images) - 1\n",
    "\n",
    "f = open(r\"C:\\Users\\jorge\\Desktop\\train_demo_dataset_data.json\", \"a\")\n",
    "f.write(ini)\n",
    "\n",
    "for key, value in data_train.items():\n",
    "    if key in train_images:\n",
    "        f.write(key)\n",
    "        f.write(post_key)\n",
    "        f.write(str(value))\n",
    "\n",
    "        if(aux == max):\n",
    "            f.write(fin)\n",
    "        else:\n",
    "            f.write(sep)\n",
    "    \n",
    "        aux = aux + 1\n",
    "f.close()"
   ]
  },
  {
   "cell_type": "code",
   "execution_count": 8,
   "id": "460a10c8",
   "metadata": {},
   "outputs": [],
   "source": [
    "contenido = open(r\"C:\\Users\\jorge\\Desktop\\train_demo_dataset_data.json\", \"r\").read()\n",
    "contenido = contenido.replace('\\'', '\\\"')\n",
    "\n",
    "with open(r\"C:\\Users\\jorge\\Desktop\\train_demo_dataset_data.json\", \"w\") as archivo:\n",
    "    archivo.write(contenido)\n",
    "    archivo.close()"
   ]
  },
  {
   "cell_type": "code",
   "execution_count": 14,
   "id": "afdc15bd",
   "metadata": {},
   "outputs": [],
   "source": [
    "import csv, os, shutil\n",
    "\n",
    "archivo1 = \"\"\n",
    "archivo2 = \"\"\n",
    "\n",
    "\n",
    "with open(r'C:\\Users\\jorge\\Desktop\\GalaxyZoo1_DR_table2.csv', newline='') as File:\n",
    "    reader = csv.reader(File)\n",
    "    for row in reader:\n",
    "        if row[0] in train_images:\n",
    "            archivo1 = r\"C:\\Users\\jorge\\Desktop\\zoo2Main\\Dr7_\" + row[0] + \".jpg\"\n",
    "            if os.path.isfile(archivo1):\n",
    "                if(int(row[13]) == 1):\n",
    "                    archivo2 = r\"C:\\Users\\jorge\\Desktop\\TRAIN_TEST\\train\\Spiral\\Dr7_\" + row[0] + \".jpg\"\n",
    "                elif(int(row[14]) == 1):\n",
    "                    archivo2 = r\"C:\\Users\\jorge\\Desktop\\TRAIN_TEST\\train\\Elliptical\\Dr7_\" + row[0] + \".jpg\"\n",
    "                else:\n",
    "                    archivo2 = r\"C:\\Users\\jorge\\Desktop\\TRAIN_TEST\\train\\Uncertain\\Dr7_\" + row[0] + \".jpg\"\n",
    "                    \n",
    "                if not os.path.isfile(archivo2):\n",
    "                    shutil.copy(archivo1, archivo2)"
   ]
  },
  {
   "cell_type": "code",
   "execution_count": null,
   "id": "1b651c2a",
   "metadata": {},
   "outputs": [],
   "source": [
    "# Cell to save selected images\n",
    "\n",
    "import os, shutil\n",
    "\n",
    "archivo1 = \"\"\n",
    "archivo2 = \"\"\n",
    "\n",
    "for i in data_train.keys():\n",
    "    archivo1 = r\"C:\\Users\\jorge\\Desktop\\zoo2Main\\Dr7_\" + i + \".jpg\"\n",
    "     if os.path.isfile(archivo1):\n",
    "            if(int(row[13]) == 1):\n",
    "                archivo2 = r\"C:\\Users\\jorge\\Desktop\\TRAIN_TEST\\train\\Spiral\\Dr7_\" + row[0] + \".jpg\"\n",
    "            elif(int(row[14]) == 1):\n",
    "                archivo2 = r\"C:\\Users\\jorge\\Desktop\\TRAIN_TEST\\train\\Elliptical\\Dr7_\" + row[0] + \".jpg\"\n",
    "            else:\n",
    "                archivo2 = r\"C:\\Users\\jorge\\Desktop\\TRAIN_TEST\\train\\Uncertain\\Dr7_\" + row[0] + \".jpg\"\n",
    "            shutil.copy(archivo1, archivo2)"
   ]
  }
 ],
 "metadata": {
  "kernelspec": {
   "display_name": "Python 3 (ipykernel)",
   "language": "python",
   "name": "python3"
  },
  "language_info": {
   "codemirror_mode": {
    "name": "ipython",
    "version": 3
   },
   "file_extension": ".py",
   "mimetype": "text/x-python",
   "name": "python",
   "nbconvert_exporter": "python",
   "pygments_lexer": "ipython3",
   "version": "3.10.9"
  }
 },
 "nbformat": 4,
 "nbformat_minor": 5
}
