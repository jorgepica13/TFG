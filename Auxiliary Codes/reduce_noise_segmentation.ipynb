{
 "cells": [
  {
   "cell_type": "markdown",
   "id": "c0cf0b65",
   "metadata": {},
   "source": [
    "Code to remove images and their masks where the galaxy region is smaller than 225 pixels"
   ]
  },
  {
   "cell_type": "code",
   "execution_count": 7,
   "id": "22b21c25",
   "metadata": {},
   "outputs": [],
   "source": [
    "import cv2, os\n",
    "\n",
    "path_images = r'C:\\Users\\jorge\\Desktop\\galaxy_binary_seg/train_images/'\n",
    "path_masks = r'C:\\Users\\jorge\\Desktop\\galaxy_binary_seg/train_masks/'\n",
    "contents = os.listdir(path_masks)\n",
    "\n",
    "for file in contents:\n",
    "    filename = os.path.join(path_masks, file)\n",
    "    if os.path.isfile(filename) and file.endswith('.png'):\n",
    "        im = cv2.imread(filename)\n",
    "        \n",
    "        npixels = 0\n",
    "        for i in range(im.shape[0]):\n",
    "            for j in range(im.shape[1]):\n",
    "                if im[i,j,0] != 0 and im[i,j,1] != 0 and im[i,j,2] != 0:\n",
    "                    npixels += 1\n",
    "                    \n",
    "        if npixels < 225:\n",
    "            fileimage = os.path.join(path_images, file[0:22])\n",
    "            fileimage += '.jpg'\n",
    "            os.remove(filename)\n",
    "            os.remove(fileimage)"
   ]
  }
 ],
 "metadata": {
  "kernelspec": {
   "display_name": "Python 3 (ipykernel)",
   "language": "python",
   "name": "python3"
  },
  "language_info": {
   "codemirror_mode": {
    "name": "ipython",
    "version": 3
   },
   "file_extension": ".py",
   "mimetype": "text/x-python",
   "name": "python",
   "nbconvert_exporter": "python",
   "pygments_lexer": "ipython3",
   "version": "3.10.9"
  }
 },
 "nbformat": 4,
 "nbformat_minor": 5
}
