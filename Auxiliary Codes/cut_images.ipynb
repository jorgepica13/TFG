{
 "cells": [
  {
   "cell_type": "markdown",
   "metadata": {},
   "source": [
    "Code for cutting images"
   ]
  },
  {
   "cell_type": "code",
   "execution_count": 1,
   "metadata": {
    "id": "XByRVCD5r3GD"
   },
   "outputs": [],
   "source": [
    "dic_points = {}"
   ]
  },
  {
   "cell_type": "code",
   "execution_count": 2,
   "metadata": {
    "colab": {
     "base_uri": "https://localhost:8080/"
    },
    "id": "_MLw-r-ADUnB",
    "outputId": "97192cf8-a9d9-44f8-b22b-9e2366ae8755"
   },
   "outputs": [
    {
     "data": {
      "text/plain": [
       "29995"
      ]
     },
     "execution_count": 2,
     "metadata": {},
     "output_type": "execute_result"
    }
   ],
   "source": [
    "import json\n",
    "import numpy as np\n",
    "  \n",
    "# Opening JSON file\n",
    "f = open(r'C:\\Users\\jorge\\Desktop\\all_via_region_data.json')\n",
    "  \n",
    "# returns JSON object as a dictionary\n",
    "data = json.load(f)\n",
    "\n",
    "min_x = 0\n",
    "min_y = 0 \n",
    "max_x = 0\n",
    "max_y = 0\n",
    "\n",
    "poly = []\n",
    "# Iterating through the json list\n",
    "for key, value in data.items():\n",
    "    regions = value[\"regions\"]\n",
    "    filename = value[\"filename\"]\n",
    "    arch = filename[-26:]\n",
    "    for it in regions:\n",
    "        it = it[\"shape_attributes\"] \n",
    "        px = it[\"all_points_x\"]\n",
    "        py = it[\"all_points_y\"]\n",
    "\n",
    "        min_x = np.min(px)\n",
    "        min_y = np.min(py)\n",
    "        max_x = np.max(px)\n",
    "        max_y = np.max(py)\n",
    "\n",
    "    dic_points[arch] = [min_x, max_x, min_y, max_y]\n",
    "    \n",
    "# Closing file\n",
    "f.close()\n",
    "\n",
    "len(dic_points)"
   ]
  },
  {
   "cell_type": "code",
   "execution_count": 16,
   "metadata": {
    "id": "FCOVN3a3pPL9"
   },
   "outputs": [],
   "source": [
    "import os, cv2\n",
    "\n",
    "path_source = \"C:/Users/jorge/Desktop/Dataset_x2/valid/uncertain/\"\n",
    "contenido = os.listdir(path_source)\n",
    "\n",
    "images = []\n",
    "path_dest = \"C:/Users/jorge/Desktop/Dataset_x2_cut/valid/uncertain/\"\n",
    "\n",
    "for file in contenido:\n",
    "    filename = os.path.join(path_source, file)\n",
    "    if os.path.isfile(filename) and file.endswith('.jpg'):\n",
    "        im = cv2.imread(filename)\n",
    "\n",
    "        points = dic_points.get(file)\n",
    "        filename_dest = path_dest + file\n",
    "\n",
    "        im = im[points[2]:points[3], points[0]:points[1]]\n",
    "        cv2.imwrite(filename_dest, im)"
   ]
  },
  {
   "cell_type": "markdown",
   "metadata": {},
   "source": [
    "Code for cutting a single image"
   ]
  },
  {
   "cell_type": "code",
   "execution_count": 4,
   "metadata": {},
   "outputs": [],
   "source": [
    "filename = r'C:\\Users\\jorge\\Desktop\\DATASET\\test\\spiral\\Dr7_587731512086036559.jpg'\n",
    "filename_dest = r'C:\\Users\\jorge\\Desktop\\Dr7_587731512086036559.jpg'"
   ]
  },
  {
   "cell_type": "code",
   "execution_count": 7,
   "metadata": {},
   "outputs": [],
   "source": [
    "import os, cv2\n",
    "\n",
    "if os.path.isfile(filename) and filename.endswith('.jpg'):\n",
    "    im = cv2.imread(filename)\n",
    "\n",
    "    points = dic_points.get('Dr7_587731512086036559.jpg')\n",
    "\n",
    "    im = im[points[2]:points[3], points[0]:points[1]]\n",
    "    cv2.imwrite(filename_dest, im)"
   ]
  }
 ],
 "metadata": {
  "colab": {
   "provenance": []
  },
  "kernelspec": {
   "display_name": "Python 3 (ipykernel)",
   "language": "python",
   "name": "python3"
  },
  "language_info": {
   "codemirror_mode": {
    "name": "ipython",
    "version": 3
   },
   "file_extension": ".py",
   "mimetype": "text/x-python",
   "name": "python",
   "nbconvert_exporter": "python",
   "pygments_lexer": "ipython3",
   "version": "3.10.9"
  }
 },
 "nbformat": 4,
 "nbformat_minor": 1
}
