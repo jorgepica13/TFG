{
 "cells": [
  {
   "cell_type": "markdown",
   "id": "1e58920f",
   "metadata": {},
   "source": [
    "Code to remove the images with dimensions less than 225 pixels."
   ]
  },
  {
   "cell_type": "code",
   "execution_count": 19,
   "id": "d8137c21",
   "metadata": {},
   "outputs": [],
   "source": [
    "import cv2, os\n",
    "\n",
    "path = 'C:/Users/jorge/Desktop/DATASET-CUT/test/uncertain/'\n",
    "contents = os.listdir(path)\n",
    "\n",
    "for file in contents:\n",
    "    filename = os.path.join(path, file)\n",
    "    \n",
    "    if os.path.isfile(filename) and file.endswith('.jpg'):\n",
    "        im = cv2.imread(filename)\n",
    "        \n",
    "        dim = im.shape[0]*im.shape[1]\n",
    "        if dim < 225:\n",
    "            os.remove(filename)"
   ]
  },
  {
   "cell_type": "code",
   "execution_count": null,
   "id": "026c405b",
   "metadata": {},
   "outputs": [],
   "source": []
  }
 ],
 "metadata": {
  "kernelspec": {
   "display_name": "Python 3 (ipykernel)",
   "language": "python",
   "name": "python3"
  },
  "language_info": {
   "codemirror_mode": {
    "name": "ipython",
    "version": 3
   },
   "file_extension": ".py",
   "mimetype": "text/x-python",
   "name": "python",
   "nbconvert_exporter": "python",
   "pygments_lexer": "ipython3",
   "version": "3.10.9"
  }
 },
 "nbformat": 4,
 "nbformat_minor": 5
}
