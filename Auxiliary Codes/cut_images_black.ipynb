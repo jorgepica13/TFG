{
 "cells": [
  {
   "cell_type": "markdown",
   "id": "3520d6a7",
   "metadata": {},
   "source": [
    "Code for cutting images with a black background"
   ]
  },
  {
   "cell_type": "code",
   "execution_count": 1,
   "id": "27af54b2",
   "metadata": {},
   "outputs": [],
   "source": [
    "points_dim = {}\n",
    "points_poly = {}\n",
    "ids_images = []"
   ]
  },
  {
   "cell_type": "code",
   "execution_count": 2,
   "id": "2c7aec78",
   "metadata": {},
   "outputs": [
    {
     "name": "stdout",
     "output_type": "stream",
     "text": [
      "29995   29995   29995\n"
     ]
    }
   ],
   "source": [
    "import json\n",
    "import numpy as np\n",
    "  \n",
    "# Opening JSON file\n",
    "f = open(r'C:\\Users\\jorge\\Desktop\\all_via_region_data.json')\n",
    "  \n",
    "# returns JSON object as a dictionary\n",
    "data = json.load(f)\n",
    "\n",
    "min_x = 0\n",
    "min_y = 0 \n",
    "max_x = 0\n",
    "max_y = 0\n",
    "\n",
    "poly = []\n",
    "# Iterating through the json list\n",
    "for key, value in data.items():\n",
    "    regions = value[\"regions\"]\n",
    "    filename = value[\"filename\"]\n",
    "    file = filename[-26:]\n",
    "    for it in regions:\n",
    "        it = it[\"shape_attributes\"] \n",
    "        px = it[\"all_points_x\"]\n",
    "        py = it[\"all_points_y\"]\n",
    "        poly = [(x + 0.5, y + 0.5) for x, y in zip(px, py)]\n",
    "        \n",
    "        min_x = np.min(px)\n",
    "        min_y = np.min(py)\n",
    "        max_x = np.max(px)\n",
    "        max_y = np.max(py)\n",
    "        \n",
    "    points_dim[file] = [min_x, max_x, min_y, max_y]\n",
    "    points_poly[file] = [poly]\n",
    "    ids_images.append(file[4:22])\n",
    "\n",
    "# Closing file\n",
    "f.close()\n",
    "\n",
    "print(len(points_dim), ' ', len(points_poly), ' ', len(ids_images))"
   ]
  },
  {
   "cell_type": "code",
   "execution_count": 11,
   "id": "14c9c837",
   "metadata": {},
   "outputs": [],
   "source": [
    "import cv2\n",
    "import csv, os, shutil\n",
    "\n",
    "path_source = \"C:/Users/jorge/Desktop/Dataset_x2/train/elliptical/\"\n",
    "contents = os.listdir(path_source)\n",
    "\n",
    "path_dest = \"C:/Users/jorge/Desktop/Dataset_x2_cut/train/elliptical/\"\n",
    "\n",
    "for file in contents:\n",
    "    filename = os.path.join(path_source, file)\n",
    "    \n",
    "    if os.path.isfile(filename) and file.endswith('.jpg'):\n",
    "        im = cv2.imread(filename)\n",
    "        \n",
    "        dimensions = points_dim.get(file)\n",
    "        pts = np.array(points_poly[file], np.int32)\n",
    "        for i in range(im.shape[0]):\n",
    "            for j in range(im.shape[1]):\n",
    "                if cv2.pointPolygonTest(pts, [j,i], False) == -1.0:\n",
    "                    im[i,j] = 0\n",
    "        \n",
    "        im = im[dimensions[2]:dimensions[3], dimensions[0]:dimensions[1]]\n",
    "\n",
    "        file_dest = os.path.join(path_dest, file)\n",
    "\n",
    "        cv2.imwrite(file_dest, im)\n"
   ]
  },
  {
   "cell_type": "code",
   "execution_count": 4,
   "id": "64b8bb45",
   "metadata": {},
   "outputs": [],
   "source": [
    "filename = r'C:\\Users\\jorge\\Desktop\\DATASET\\test\\spiral\\Dr7_587731512086036559.jpg'\n",
    "filename_dest = r'C:\\Users\\jorge\\Desktop\\Dr7_587731512086036559_2.jpg'"
   ]
  },
  {
   "cell_type": "code",
   "execution_count": 5,
   "id": "8d400ca1",
   "metadata": {},
   "outputs": [],
   "source": [
    "import cv2\n",
    "import csv, os, shutil\n",
    "\n",
    "if os.path.isfile(filename) and filename.endswith('.jpg'):\n",
    "    im = cv2.imread(filename)\n",
    "        \n",
    "    dimensions = points_dim.get('Dr7_587731512086036559.jpg')\n",
    "    pts = np.array(points_poly['Dr7_587731512086036559.jpg'], np.int32)\n",
    "    for i in range(im.shape[0]):\n",
    "        for j in range(im.shape[1]):\n",
    "            if cv2.pointPolygonTest(pts, [j,i], False) == -1.0:\n",
    "                im[i,j] = 0\n",
    "        \n",
    "    im = im[dimensions[2]:dimensions[3], dimensions[0]:dimensions[1]]\n",
    "\n",
    "    cv2.imwrite(filename_dest, im)"
   ]
  },
  {
   "cell_type": "code",
   "execution_count": null,
   "id": "e465348a",
   "metadata": {},
   "outputs": [],
   "source": []
  }
 ],
 "metadata": {
  "kernelspec": {
   "display_name": "Python 3 (ipykernel)",
   "language": "python",
   "name": "python3"
  },
  "language_info": {
   "codemirror_mode": {
    "name": "ipython",
    "version": 3
   },
   "file_extension": ".py",
   "mimetype": "text/x-python",
   "name": "python",
   "nbconvert_exporter": "python",
   "pygments_lexer": "ipython3",
   "version": "3.10.9"
  }
 },
 "nbformat": 4,
 "nbformat_minor": 5
}
