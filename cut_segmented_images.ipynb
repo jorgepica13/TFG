{
 "cells": [
  {
   "cell_type": "code",
   "execution_count": 1,
   "id": "8954168c",
   "metadata": {},
   "outputs": [
    {
     "name": "stdout",
     "output_type": "stream",
     "text": [
      "Numero de imagenes:  300\n",
      "Numero de imagenes:  300\n"
     ]
    }
   ],
   "source": [
    "import cv2, os\n",
    "import numpy as np\n",
    "\n",
    "path = r'C:/Users/jorge/Desktop/galaxy_binary_seg/inference_results_masks/'\n",
    "contents = os.listdir(path)\n",
    "\n",
    "dims_files = {}\n",
    "points_poly = {}\n",
    "\n",
    "for file in contents:\n",
    "    filename = os.path.join(path, file)\n",
    "    # print(filename)\n",
    "    if os.path.isfile(filename) and file.endswith('.png'):\n",
    "        im = cv2.imread(filename)\n",
    "        \n",
    "        x_min = 256\n",
    "        y_min = 256\n",
    "        x_max = 0\n",
    "        y_max = 0\n",
    "        xs = []\n",
    "        ys = []\n",
    "        \n",
    "        for i in range(im.shape[0]):\n",
    "            for j in range(im.shape[1]):\n",
    "                if im[i,j,0] == 0 and im[i,j,1] == 0 and im[i,j,2] == 255:\n",
    "                    # print(im[i,j])\n",
    "                    xs.append(i)\n",
    "                    ys.append(j)\n",
    "                    \n",
    "        \n",
    "        poly = [(x + 0.5, y + 0.5) for x, y in zip(xs, ys)]            \n",
    "        x_min = np.min(xs)\n",
    "        y_min = np.min(ys)\n",
    "        x_max = np.max(xs)\n",
    "        y_max = np.max(ys)\n",
    "        \n",
    "        id_file = file[-26:-4] + '.jpg'\n",
    "        # print(id_file)\n",
    "        points_poly[id_file] = [poly] \n",
    "        dims_files[id_file] = [x_min, x_max, y_min, y_max]\n",
    "        \n",
    "print('Numero de imagenes: ', len(dims_files))\n",
    "print('Numero de imagenes: ', len(points_poly))"
   ]
  },
  {
   "cell_type": "code",
   "execution_count": 3,
   "id": "85438e48",
   "metadata": {},
   "outputs": [],
   "source": [
    "path_source = 'C:/Users/jorge/Desktop/galaxy_binary_seg/test_images/'\n",
    "contents = os.listdir(path_source)\n",
    "\n",
    "path_dest = 'C:/Users/jorge/Desktop/galaxy_binary_seg/segmented_images_cut/'\n",
    "\n",
    "for file in contents:\n",
    "    filename = os.path.join(path_source, file)\n",
    "    # print(filename)\n",
    "    if os.path.isfile(filename) and file.endswith('.jpg'):\n",
    "        im = cv2.imread(filename)\n",
    "        \n",
    "        pts = np.array(points_poly[file], np.int32)\n",
    "        for i in range(im.shape[0]):\n",
    "            for j in range(im.shape[1]):\n",
    "                if cv2.pointPolygonTest(pts, [i,j], False) == -1.0:\n",
    "                    im[i,j] = 0\n",
    "                    \n",
    "        dims = dims_files.get(file)\n",
    "        im = im[dims[0]:dims[1], dims[2]:dims[3]]\n",
    "        \n",
    "        new_file = os.path.join(path_dest, file)\n",
    "        cv2.imwrite(new_file, im)"
   ]
  },
  {
   "cell_type": "code",
   "execution_count": null,
   "id": "00bbb85d",
   "metadata": {},
   "outputs": [],
   "source": []
  }
 ],
 "metadata": {
  "kernelspec": {
   "display_name": "Python 3 (ipykernel)",
   "language": "python",
   "name": "python3"
  },
  "language_info": {
   "codemirror_mode": {
    "name": "ipython",
    "version": 3
   },
   "file_extension": ".py",
   "mimetype": "text/x-python",
   "name": "python",
   "nbconvert_exporter": "python",
   "pygments_lexer": "ipython3",
   "version": "3.10.9"
  }
 },
 "nbformat": 4,
 "nbformat_minor": 5
}
