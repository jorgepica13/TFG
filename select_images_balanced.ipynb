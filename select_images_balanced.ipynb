{
 "cells": [
  {
   "cell_type": "markdown",
   "metadata": {},
   "source": [
    "Variables globales para la seleccion de imagenes"
   ]
  },
  {
   "cell_type": "code",
   "execution_count": 2,
   "metadata": {},
   "outputs": [],
   "source": [
    "SIZE_TRAIN = 2000\n",
    "SIZE_VALID = 200\n",
    "SIZE_TEST = 200\n",
    "spiral = 0\n",
    "elliptical = 0\n",
    "uncertain = 0\n",
    "objid = []\n",
    "selected = []\n",
    "complete_train = False\n",
    "complete_valid = False\n",
    "complete_test = False"
   ]
  },
  {
   "cell_type": "markdown",
   "metadata": {},
   "source": [
    "Muestra aleatoria de todo el conjunto de dataset"
   ]
  },
  {
   "cell_type": "code",
   "execution_count": 3,
   "metadata": {
    "colab": {
     "base_uri": "https://localhost:8080/"
    },
    "executionInfo": {
     "elapsed": 2875,
     "status": "ok",
     "timestamp": 1678264122430,
     "user": {
      "displayName": "JORGE PICADO CARIÑO",
      "userId": "11719845436525657716"
     },
     "user_tz": -60
    },
    "id": "qbKXhujY5N6V",
    "outputId": "b10e7ce1-878e-4b27-ace7-900d718b1d4d"
   },
   "outputs": [
    {
     "data": {
      "text/plain": [
       "29995"
      ]
     },
     "execution_count": 3,
     "metadata": {},
     "output_type": "execute_result"
    }
   ],
   "source": [
    "import json, csv, os\n",
    "\n",
    "# Opening JSON file\n",
    "f = open(r\"C:\\Users\\jorge\\Desktop\\all_via_region_data.json\")\n",
    "\n",
    "# returns JSON object as \n",
    "# a dictionary\n",
    "data_train = json.load(f)\n",
    "\n",
    "# Iterating through the json\n",
    "# list\n",
    "for i in data_train.keys():\n",
    "    objid.append(i)\n",
    "    \n",
    "#Closing file\n",
    "f.close()\n",
    "\n",
    "len(objid)"
   ]
  },
  {
   "cell_type": "code",
   "execution_count": 4,
   "metadata": {},
   "outputs": [],
   "source": [
    "import os, shutil\n",
    "\n",
    "archivo1 = \"\"\n",
    "archivo2 = \"\"\n",
    "\n",
    "with open(r'C:\\Users\\jorge\\Desktop\\GalaxyZoo1_DR_table2.csv', newline='') as File:\n",
    "    reader = csv.reader(File)\n",
    "    for row in reader:\n",
    "        if(not complete_train):\n",
    "            if (row[0] in objid):\n",
    "                archivo1 = r\"C:\\Users\\jorge\\Desktop\\ALL_IMAGES_JSON\\Dr7_\" + row[0] + \".jpg\"\n",
    "                if os.path.isfile(archivo1):\n",
    "                    if(int(row[13]) == 1 and spiral<SIZE_TRAIN):\n",
    "                        selected.append(row[0])\n",
    "                        archivo2 = r\"C:\\Users\\jorge\\Desktop\\Dataset_x2\\train\\spiral\\Dr7_\" + row[0] + \".jpg\"\n",
    "                        spiral = spiral+1\n",
    "                        shutil.copy(archivo1, archivo2)\n",
    "\n",
    "                    elif(int(row[14]) == 1 and elliptical<SIZE_TRAIN):\n",
    "                        selected.append(row[0])\n",
    "                        archivo2 = r\"C:\\Users\\jorge\\Desktop\\Dataset_x2\\train\\elliptical\\Dr7_\" + row[0] + \".jpg\"\n",
    "                        elliptical = elliptical+1\n",
    "                        shutil.copy(archivo1, archivo2)\n",
    "\n",
    "                    elif(int(row[15]) == 1 and uncertain<SIZE_TRAIN):\n",
    "                        selected.append(row[0])\n",
    "                        archivo2 = r\"C:\\Users\\jorge\\Desktop\\Dataset_x2\\train\\uncertain\\Dr7_\" + row[0] + \".jpg\"\n",
    "                        uncertain = uncertain+1\n",
    "                        shutil.copy(archivo1, archivo2)\n",
    "\n",
    "                    if(spiral==SIZE_TRAIN and elliptical==SIZE_TRAIN and uncertain==SIZE_TRAIN):\n",
    "                        complete_train = True\n",
    "                        spiral = 0\n",
    "                        elliptical = 0\n",
    "                        uncertain = 0\n",
    "        \n",
    "        elif(not complete_valid):\n",
    "            if (row[0] in objid):\n",
    "                archivo1 = r\"C:\\Users\\jorge\\Desktop\\ALL_IMAGES_JSON\\Dr7_\" + row[0] + \".jpg\"\n",
    "                if os.path.isfile(archivo1):\n",
    "                    if(int(row[13]) == 1 and spiral<SIZE_VALID):\n",
    "                        selected.append(row[0])\n",
    "                        archivo2 = r\"C:\\Users\\jorge\\Desktop\\Dataset_x2\\valid\\spiral\\Dr7_\" + row[0] + \".jpg\"\n",
    "                        spiral = spiral+1\n",
    "                        shutil.copy(archivo1, archivo2)\n",
    "\n",
    "                    elif(int(row[14]) == 1 and elliptical<SIZE_VALID):\n",
    "                        selected.append(row[0])\n",
    "                        archivo2 = r\"C:\\Users\\jorge\\Desktop\\Dataset_x2\\valid\\elliptical\\Dr7_\" + row[0] + \".jpg\"\n",
    "                        elliptical = elliptical+1\n",
    "                        shutil.copy(archivo1, archivo2)\n",
    "\n",
    "                    elif(int(row[15]) == 1 and uncertain<SIZE_VALID):\n",
    "                        selected.append(row[0])\n",
    "                        archivo2 = r\"C:\\Users\\jorge\\Desktop\\Dataset_x2\\valid\\uncertain\\Dr7_\" + row[0] + \".jpg\"\n",
    "                        uncertain = uncertain+1\n",
    "                        shutil.copy(archivo1, archivo2)\n",
    "\n",
    "                    if(spiral==SIZE_VALID and elliptical==SIZE_VALID and uncertain==SIZE_VALID):\n",
    "                        complete_valid = True\n",
    "                        spiral = 0\n",
    "                        elliptical = 0\n",
    "                        uncertain = 0\n",
    "                        \n",
    "        elif(not complete_test):\n",
    "            if (row[0] in objid):\n",
    "                archivo1 = r\"C:\\Users\\jorge\\Desktop\\ALL_IMAGES_JSON\\Dr7_\" + row[0] + \".jpg\"\n",
    "                if os.path.isfile(archivo1):\n",
    "                    if(int(row[13]) == 1 and spiral<SIZE_TEST):\n",
    "                        selected.append(row[0])\n",
    "                        archivo2 = r\"C:\\Users\\jorge\\Desktop\\Dataset_x2\\test\\spiral\\Dr7_\" + row[0] + \".jpg\"\n",
    "                        spiral = spiral+1\n",
    "                        shutil.copy(archivo1, archivo2)\n",
    "\n",
    "                    elif(int(row[14]) == 1 and elliptical<SIZE_TEST):\n",
    "                        selected.append(row[0])\n",
    "                        archivo2 = r\"C:\\Users\\jorge\\Desktop\\Dataset_x2\\test\\elliptical\\Dr7_\" + row[0] + \".jpg\"\n",
    "                        elliptical = elliptical+1\n",
    "                        shutil.copy(archivo1, archivo2)\n",
    "\n",
    "                    elif(int(row[15]) == 1 and uncertain<SIZE_TEST):\n",
    "                        selected.append(row[0])\n",
    "                        archivo2 = r\"C:\\Users\\jorge\\Desktop\\Dataset_x2\\test\\uncertain\\Dr7_\" + row[0] + \".jpg\"\n",
    "                        uncertain = uncertain+1\n",
    "                        shutil.copy(archivo1, archivo2)\n",
    "\n",
    "                    if(spiral==SIZE_TEST and elliptical==SIZE_TEST and uncertain==SIZE_TEST):\n",
    "                        complete_test = True\n",
    "                        spiral = 0\n",
    "                        elliptical = 0\n",
    "                        uncertain = 0"
   ]
  },
  {
   "cell_type": "code",
   "execution_count": 5,
   "metadata": {
    "id": "v3yVteqHoymM"
   },
   "outputs": [],
   "source": [
    "ini = \"{\\\"\"\n",
    "post_key = \"\\\":\"\n",
    "sep = \",\\n\\\"\"\n",
    "fin = \"}\"\n",
    "\n",
    "aux = 0\n",
    "max = len(selected) - 1\n",
    "\n",
    "f = open(r\"C:/Users/jorge/Desktop/JSONS/JSON_dataset_x2/via_region_data.json\", \"a\")\n",
    "f.write(ini)\n",
    "\n",
    "for key, value in data_train.items():\n",
    "    if key in selected:\n",
    "        f.write(key)\n",
    "        f.write(post_key)\n",
    "        f.write(str(value))\n",
    "\n",
    "        if(aux == max):\n",
    "            f.write(fin)\n",
    "        else:\n",
    "            f.write(sep)\n",
    "    \n",
    "        aux = aux + 1\n",
    "f.close()"
   ]
  },
  {
   "cell_type": "code",
   "execution_count": 6,
   "metadata": {
    "id": "g0-wWYGDRU4C"
   },
   "outputs": [],
   "source": [
    "contenido = open(r\"C:/Users/jorge/Desktop/JSONS/JSON_dataset_x2/via_region_data.json\", \"r\").read()\n",
    "contenido = contenido.replace('\\'', '\\\"')\n",
    "\n",
    "with open(r\"C:/Users/jorge/Desktop/JSONS/JSON_dataset_x2/via_region_data.json\", \"w\") as archivo:\n",
    "    archivo.write(contenido)\n",
    "    archivo.close()"
   ]
  },
  {
   "cell_type": "markdown",
   "metadata": {},
   "source": [
    "---- TEST ----"
   ]
  },
  {
   "cell_type": "code",
   "execution_count": 6,
   "metadata": {},
   "outputs": [],
   "source": [
    "SIZE_TEST = 200\n",
    "spiral = 0\n",
    "elliptical = 0\n",
    "uncertain = 0\n",
    "objid = []\n",
    "selected = []\n",
    "complete_test = False"
   ]
  },
  {
   "cell_type": "code",
   "execution_count": 7,
   "metadata": {},
   "outputs": [
    {
     "data": {
      "text/plain": [
       "6000"
      ]
     },
     "execution_count": 7,
     "metadata": {},
     "output_type": "execute_result"
    }
   ],
   "source": [
    "# Opening JSON file\n",
    "f = open(r\"C:\\Users\\jorge\\Desktop\\archivosJSON\\val_via_region_data.json\")\n",
    "\n",
    "# returns JSON object as \n",
    "# a dictionary\n",
    "data_test = json.load(f)\n",
    "\n",
    "# Iterating through the json\n",
    "# list\n",
    "for i in data_test.keys():\n",
    "    objid.append(i)\n",
    "    \n",
    "#Closing file\n",
    "f.close()\n",
    "\n",
    "len(objid)"
   ]
  },
  {
   "cell_type": "code",
   "execution_count": 8,
   "metadata": {},
   "outputs": [],
   "source": [
    "archivo1 = \"\"\n",
    "archivo2 = \"\"\n",
    "\n",
    "with open(r'C:\\Users\\jorge\\Desktop\\GalaxyZoo1_DR_table2.csv', newline='') as File:\n",
    "    reader = csv.reader(File)\n",
    "    for row in reader:\n",
    "        if(not complete_test):\n",
    "            if (row[0] in objid):\n",
    "                archivo1 = r\"C:\\Users\\jorge\\Desktop\\zoo2Main\\Dr7_\" + row[0] + \".jpg\"\n",
    "                if os.path.isfile(archivo1):\n",
    "                    if(int(row[13]) == 1 and spiral<SIZE_TEST):\n",
    "                        selected.append(row[0])\n",
    "                        archivo2 = r\"C:\\Users\\jorge\\Desktop\\DATASET\\test\\spiral\\Dr7_\" + row[0] + \".jpg\"\n",
    "                        spiral = spiral+1\n",
    "                        shutil.copy(archivo1, archivo2)\n",
    "\n",
    "                    elif(int(row[14]) == 1 and elliptical<SIZE_TEST):\n",
    "                        selected.append(row[0])\n",
    "                        archivo2 = r\"C:\\Users\\jorge\\Desktop\\DATASET\\test\\elliptical\\Dr7_\" + row[0] + \".jpg\"\n",
    "                        elliptical = elliptical+1\n",
    "                        shutil.copy(archivo1, archivo2)\n",
    "\n",
    "                    elif(int(row[15]) == 1 and uncertain<SIZE_TEST):\n",
    "                        selected.append(row[0])\n",
    "                        archivo2 = r\"C:\\Users\\jorge\\Desktop\\DATASET\\test\\Uncertain\\Dr7_\" + row[0] + \".jpg\"\n",
    "                        uncertain = uncertain+1\n",
    "                        shutil.copy(archivo1, archivo2)\n",
    "\n",
    "                    if(spiral==SIZE_TEST and elliptical==SIZE_TEST and uncertain==SIZE_TEST):\n",
    "                        complete_test = True"
   ]
  },
  {
   "cell_type": "code",
   "execution_count": 9,
   "metadata": {},
   "outputs": [],
   "source": [
    "ini = \"{\\\"\"\n",
    "post_key = \"\\\":\"\n",
    "sep = \",\\n\\\"\"\n",
    "fin = \"}\"\n",
    "\n",
    "aux = 0\n",
    "max = len(selected) - 1\n",
    "\n",
    "f = open(r\"C:\\Users\\jorge\\Desktop\\JSON_dataset\\test_via_region_data.json\", \"a\")\n",
    "f.write(ini)\n",
    "\n",
    "for key, value in data_test.items():\n",
    "    if key in selected:\n",
    "        f.write(key)\n",
    "        f.write(post_key)\n",
    "        f.write(str(value))\n",
    "\n",
    "        if(aux == max):\n",
    "            f.write(fin)\n",
    "        else:\n",
    "            f.write(sep)\n",
    "    \n",
    "        aux = aux + 1\n",
    "f.close()"
   ]
  },
  {
   "cell_type": "code",
   "execution_count": 10,
   "metadata": {},
   "outputs": [],
   "source": [
    "contenido = open(r\"C:\\Users\\jorge\\Desktop\\JSON_dataset\\test_via_region_data.json\", \"r\").read()\n",
    "contenido = contenido.replace('\\'', '\\\"')\n",
    "\n",
    "with open(r\"C:\\Users\\jorge\\Desktop\\JSON_dataset\\test_via_region_data.json\", \"w\") as archivo:\n",
    "    archivo.write(contenido)\n",
    "    archivo.close()"
   ]
  },
  {
   "cell_type": "code",
   "execution_count": null,
   "metadata": {},
   "outputs": [],
   "source": []
  }
 ],
 "metadata": {
  "colab": {
   "authorship_tag": "ABX9TyN44oU8hEiIJCoCNlbqsWSF",
   "provenance": []
  },
  "kernelspec": {
   "display_name": "Python 3 (ipykernel)",
   "language": "python",
   "name": "python3"
  },
  "language_info": {
   "codemirror_mode": {
    "name": "ipython",
    "version": 3
   },
   "file_extension": ".py",
   "mimetype": "text/x-python",
   "name": "python",
   "nbconvert_exporter": "python",
   "pygments_lexer": "ipython3",
   "version": "3.10.9"
  }
 },
 "nbformat": 4,
 "nbformat_minor": 1
}
