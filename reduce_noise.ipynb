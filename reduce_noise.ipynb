{
 "cells": [
  {
   "cell_type": "code",
   "execution_count": 13,
   "id": "22b21c25",
   "metadata": {},
   "outputs": [],
   "source": [
    "import cv2, os\n",
    "\n",
    "path_images = 'C:/Users/jorge/Drive/galaxy_multiclass_seg/valid_images/'\n",
    "path_masks = 'C:/Users/jorge/Drive/galaxy_multiclass_seg/valid_masks/'\n",
    "contents = os.listdir(path_masks)\n",
    "\n",
    "for file in contents:\n",
    "    filename = os.path.join(path_masks, file)\n",
    "    if os.path.isfile(filename) and file.endswith('.png'):\n",
    "        im = cv2.imread(filename)\n",
    "        \n",
    "        npixels = 0\n",
    "        for i in range(im.shape[0]):\n",
    "            for j in range(im.shape[1]):\n",
    "                if im[i,j,0] != 0 and im[i,j,1] != 0 and im[i,j,2] != 0:\n",
    "                    npixels += 1\n",
    "                    \n",
    "        if npixels < 225:\n",
    "            fileimage = os.path.join(path_images, file[0:22])\n",
    "            fileimage += '.jpg'\n",
    "            os.remove(filename)\n",
    "            os.remove(fileimage)"
   ]
  },
  {
   "cell_type": "code",
   "execution_count": 28,
   "id": "87c61310",
   "metadata": {},
   "outputs": [],
   "source": [
    "import cv2, os\n",
    "\n",
    "path_images = 'C:/Users/jorge/Drive/galaxy_multiclass_seg/train_images/'\n",
    "path_masks = 'C:/Users/jorge/Drive/galaxy_multiclass_seg/train_masks/'\n",
    "contents = os.listdir(path_masks)\n",
    "\n",
    "ims = []\n",
    "masks = []\n",
    "\n",
    "for file in contents:\n",
    "    filename = os.path.join(path_masks, file)\n",
    "    \n",
    "    if os.path.isfile(filename) and file.endswith('.png'):\n",
    "        # im = cv2.imread(filename)\n",
    "        \n",
    "        fileimage = os.path.join(path_images, file[0:22])\n",
    "        fileimage += '.jpg'\n",
    "        \n",
    "        # print(filename)\n",
    "        # print(fileimage)\n",
    "        if os.path.isfile(fileimage):\n",
    "            ims.append(fileimage)\n",
    "            masks.append(filename)\n",
    "        #    print(filename)\n",
    "        #    print(fileimage)"
   ]
  },
  {
   "cell_type": "code",
   "execution_count": 29,
   "id": "2d4006ff",
   "metadata": {},
   "outputs": [
    {
     "name": "stdout",
     "output_type": "stream",
     "text": [
      "2868\n",
      "2868\n"
     ]
    }
   ],
   "source": [
    "print(len(ims))\n",
    "print(len(masks))"
   ]
  },
  {
   "cell_type": "code",
   "execution_count": 32,
   "id": "a8a97853",
   "metadata": {},
   "outputs": [
    {
     "name": "stdout",
     "output_type": "stream",
     "text": [
      "2868\n"
     ]
    }
   ],
   "source": [
    "import cv2, os\n",
    "\n",
    "path_images = 'C:/Users/jorge/Drive/galaxy_multiclass_seg/train_images/'\n",
    "path_masks = 'C:/Users/jorge/Drive/galaxy_multiclass_seg/train_masks/'\n",
    "contents = os.listdir(path_images)\n",
    "\n",
    "aux = 0\n",
    "for file in contents:\n",
    "    filename = os.path.join(path_images, file)\n",
    "    if filename in ims:\n",
    "        aux += 1\n",
    "    else:\n",
    "         os.remove(filename)\n",
    "            \n",
    "print(aux)"
   ]
  },
  {
   "cell_type": "code",
   "execution_count": null,
   "id": "bae91f74",
   "metadata": {},
   "outputs": [],
   "source": []
  }
 ],
 "metadata": {
  "kernelspec": {
   "display_name": "Python 3 (ipykernel)",
   "language": "python",
   "name": "python3"
  },
  "language_info": {
   "codemirror_mode": {
    "name": "ipython",
    "version": 3
   },
   "file_extension": ".py",
   "mimetype": "text/x-python",
   "name": "python",
   "nbconvert_exporter": "python",
   "pygments_lexer": "ipython3",
   "version": "3.10.9"
  }
 },
 "nbformat": 4,
 "nbformat_minor": 5
}
