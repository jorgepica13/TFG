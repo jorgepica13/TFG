{
  "cells": [
    {
      "cell_type": "code",
      "execution_count": null,
      "metadata": {
        "colab": {
          "base_uri": "https://localhost:8080/"
        },
        "id": "4nZSCn3qXHNI",
        "outputId": "90cfe017-9217-4893-f60f-021a2140f288"
      },
      "outputs": [
        {
          "name": "stdout",
          "output_type": "stream",
          "text": [
            "Mounted at /content/drive\n"
          ]
        }
      ],
      "source": [
        "# We start by getting access to the drive\n",
        "from google.colab import drive\n",
        "drive.mount(\"/content/drive\", force_remount=True)"
      ]
    },
    {
      "cell_type": "code",
      "execution_count": null,
      "metadata": {
        "colab": {
          "base_uri": "https://localhost:8080/"
        },
        "id": "ZVWPRQcdXH1A",
        "outputId": "d57d0abd-34cb-4dda-caee-021eb89936a6"
      },
      "outputs": [
        {
          "name": "stdout",
          "output_type": "stream",
          "text": [
            "/content/drive/My Drive\n"
          ]
        }
      ],
      "source": [
        "import sys,os\n",
        "# change directory\n",
        "%cd '/content/drive/My Drive'\n",
        "# Let's import the python files to have access to its functions and Classes\n",
        "path_to_module='/content/drive/My Drive/segmentation_codes/'\n",
        "sys.path.append(os.path.abspath(path_to_module))\n",
        "import seg_utils, seg_config_bin, seg_model"
      ]
    },
    {
      "cell_type": "code",
      "execution_count": null,
      "metadata": {
        "id": "9iWxX6UFXBZR"
      },
      "outputs": [],
      "source": [
        "import torch\n",
        "import cv2\n",
        "import os\n",
        "from PIL import Image\n",
        "from google.colab.patches import cv2_imshow"
      ]
    },
    {
      "cell_type": "code",
      "execution_count": null,
      "metadata": {
        "colab": {
          "base_uri": "https://localhost:8080/"
        },
        "id": "0NtqziSgW63v",
        "outputId": "050a0419-8f6d-4682-df21-00f73542c266"
      },
      "outputs": [
        {
          "name": "stderr",
          "output_type": "stream",
          "text": [
            "Downloading: \"https://download.pytorch.org/models/deeplabv3_resnet50_coco-cd0a2569.pth\" to /root/.cache/torch/hub/checkpoints/deeplabv3_resnet50_coco-cd0a2569.pth\n",
            "100%|██████████| 161M/161M [00:00<00:00, 216MB/s]\n"
          ]
        },
        {
          "name": "stdout",
          "output_type": "stream",
          "text": [
            "Image 1\n"
          ]
        }
      ],
      "source": [
        "out_dir = '/content/drive/My Drive/segmentation_codes/outputs_bin/'\n",
        "out_dir = os.path.join(out_dir, 'inference_result_Google')\n",
        "os.makedirs(out_dir, exist_ok=True)\n",
        "\n",
        "# Set computation device.jpg\n",
        "device = torch.device('cuda' if torch.cuda.is_available() else 'cpu')\n",
        "\n",
        "model = seg_model.prepare_model(len(seg_config_bin.ALL_CLASSES))\n",
        "ckpt = torch.load('/content/drive/My Drive/segmentation_codes/outputs_bin/best_model_seg.pth', map_location=device)\n",
        "model.load_state_dict(ckpt['model_state_dict'])\n",
        "model.eval().to(device)\n",
        "\n",
        "input = '/content/drive/My Drive/segmentation_codes/test_Google/'\n",
        "all_image_paths = os.listdir(input)\n",
        "for i, image_path in enumerate(all_image_paths):\n",
        "    print(f\"Image {i+1}\")\n",
        "    # Read the image.\n",
        "    image = Image.open(os.path.join(input, image_path))\n",
        "\n",
        "    # Resize very large images (if width > 1024.) to avoid OOM on GPUs.\n",
        "    if image.size[0] > 1024:\n",
        "        image = image.resize((800, 800))\n",
        "\n",
        "    # Do forward pass and get the output dictionary.\n",
        "    outputs = seg_utils.get_segment_labels(image, model, device)\n",
        "    # Get the data from the `out` key.\n",
        "    outputs = outputs['out']\n",
        "    segmented_image = seg_utils.draw_segmentation_map(outputs)\n",
        "\n",
        "    final_image = seg_utils.image_overlay(image, segmented_image)\n",
        "    # cv2_imshow(final_image)\n",
        "    image_path = image_path[:-4] + '.png'\n",
        "    cv2.waitKey(1)\n",
        "    cv2.imwrite(os.path.join(out_dir, image_path), final_image)"
      ]
    }
  ],
  "metadata": {
    "accelerator": "GPU",
    "colab": {
      "gpuType": "T4",
      "provenance": []
    },
    "kernelspec": {
      "display_name": "Python 3",
      "name": "python3"
    },
    "language_info": {
      "name": "python"
    }
  },
  "nbformat": 4,
  "nbformat_minor": 0
}
