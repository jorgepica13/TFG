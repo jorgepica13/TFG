{
 "cells": [
  {
   "cell_type": "code",
   "execution_count": 9,
   "id": "5cdca37c",
   "metadata": {},
   "outputs": [
    {
     "name": "stdout",
     "output_type": "stream",
     "text": [
      "Images leidas:  3000\n"
     ]
    }
   ],
   "source": [
    "import os\n",
    "\n",
    "folder = r'C:/Users/jorge/Desktop/galaxy_segmetation/train_images/'\n",
    "\n",
    "contenido = os.listdir(folder)\n",
    "images = []\n",
    "for fichero in contenido:\n",
    "    if os.path.isfile(os.path.join(folder, fichero)) and fichero.endswith('.jpg'):\n",
    "        images.append(fichero)\n",
    "        \n",
    "print('Images leidas: ', len(images))"
   ]
  },
  {
   "cell_type": "code",
   "execution_count": 10,
   "id": "bf25e6ce",
   "metadata": {},
   "outputs": [],
   "source": [
    "import shutil\n",
    "\n",
    "source = r'C:/Users/jorge/Desktop/ALL_IMAGES_JSON_MASKS/'\n",
    "dest = r'C:/Users/jorge/Desktop/galaxy_segmetation/train_masks/'\n",
    "\n",
    "contenido = os.listdir(source)\n",
    "for fichero in contenido:\n",
    "    file_source = os.path.join(source, fichero) \n",
    "    if os.path.isfile(file_source) and fichero.endswith('.jpg') and fichero in images:\n",
    "        file_dest = dest + fichero\n",
    "        shutil.copy(file_source, file_dest)"
   ]
  },
  {
   "cell_type": "code",
   "execution_count": null,
   "id": "9935f3c2",
   "metadata": {},
   "outputs": [],
   "source": []
  }
 ],
 "metadata": {
  "kernelspec": {
   "display_name": "Python 3 (ipykernel)",
   "language": "python",
   "name": "python3"
  },
  "language_info": {
   "codemirror_mode": {
    "name": "ipython",
    "version": 3
   },
   "file_extension": ".py",
   "mimetype": "text/x-python",
   "name": "python",
   "nbconvert_exporter": "python",
   "pygments_lexer": "ipython3",
   "version": "3.10.9"
  }
 },
 "nbformat": 4,
 "nbformat_minor": 5
}
