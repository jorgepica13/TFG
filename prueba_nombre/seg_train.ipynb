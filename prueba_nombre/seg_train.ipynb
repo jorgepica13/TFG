{
  "nbformat": 4,
  "nbformat_minor": 0,
  "metadata": {
    "colab": {
      "provenance": [],
      "gpuType": "T4"
    },
    "kernelspec": {
      "name": "python3",
      "display_name": "Python 3"
    },
    "language_info": {
      "name": "python"
    },
    "accelerator": "GPU",
    "gpuClass": "standard"
  },
  "cells": [
    {
      "cell_type": "code",
      "execution_count": null,
      "metadata": {
        "colab": {
          "base_uri": "https://localhost:8080/"
        },
        "id": "Zr1lmxNaMBvY",
        "outputId": "f1ac7b50-de1f-44e5-932b-f0677f816d07"
      },
      "outputs": [
        {
          "output_type": "stream",
          "name": "stdout",
          "text": [
            "Mounted at /content/drive\n"
          ]
        }
      ],
      "source": [
        "# We start by getting access to the drive\n",
        "from google.colab import drive\n",
        "drive.mount(\"/content/drive\", force_remount=True)"
      ]
    },
    {
      "cell_type": "code",
      "source": [
        "import sys,os\n",
        "# change directory\n",
        "%cd '/content/drive/My Drive'\n",
        "# Let's import the python module exercises.py  to have access to its functions and Classes\n",
        "path_to_module='/content/drive/My Drive/segmentation_codes/'\n",
        "sys.path.append(os.path.abspath(path_to_module))\n",
        "import datasets, engine, model, config, utils"
      ],
      "metadata": {
        "colab": {
          "base_uri": "https://localhost:8080/"
        },
        "id": "tRd-gv5HMJKp",
        "outputId": "e239d3f2-71c0-42f4-eeda-b659898a3aec"
      },
      "execution_count": null,
      "outputs": [
        {
          "output_type": "stream",
          "name": "stdout",
          "text": [
            "/content/drive/My Drive\n"
          ]
        }
      ]
    },
    {
      "cell_type": "code",
      "source": [
        "import torch\n",
        "import torch.nn as nn\n",
        "import os\n",
        "# import argparse\n",
        "\n",
        "# from datasets import get_images, get_dataset, get_data_loaders\n",
        "# from engine import train, validate\n",
        "# from model import prepare_model\n",
        "# from config import ALL_CLASSES, LABEL_COLORS_LIST\n",
        "# from utils import save_model, SaveBestModel, save_plots\n",
        "# from torch.optim.lr_scheduler import StepLR\n",
        "\n",
        "seed = 42\n",
        "torch.manual_seed(seed)\n",
        "torch.cuda.manual_seed(seed)\n",
        "torch.backends.cudnn.deterministic = True\n",
        "torch.backends.cudnn.benchmark = True\n",
        "\n",
        "lr = 1e-4\n",
        "imgsz = 256\n",
        "batch = 32\n",
        "epochs = 20\n",
        "scheduler = True\n",
        "\n",
        "'''\n",
        "parser = argparse.ArgumentParser()\n",
        "parser.add_argument(\n",
        "    '--epochs',\n",
        "    default=10,\n",
        "    help='number of epochs to train for',\n",
        "    type=int\n",
        ")\n",
        "parser.add_argument(\n",
        "    '--lr',\n",
        "    default=0.0001,\n",
        "    help='learning rate for optimizer',\n",
        "    type=float\n",
        ")\n",
        "parser.add_argument(\n",
        "    '--batch',\n",
        "    default=4,\n",
        "    help='batch size for data loader',\n",
        "    type=int\n",
        ")\n",
        "parser.add_argument(\n",
        "    '--imgsz', \n",
        "    default=512,\n",
        "    type=int\n",
        ")\n",
        "parser.add_argument(\n",
        "    '--scheduler',\n",
        "    action='store_true',\n",
        ")\n",
        "args = parser.parse_args()\n",
        "print(args)\n",
        "'''"
      ],
      "metadata": {
        "id": "1JAgIAlfM33c",
        "colab": {
          "base_uri": "https://localhost:8080/",
          "height": 87
        },
        "outputId": "2a2192dc-6a7b-41ff-d93e-3dd0afa7761c"
      },
      "execution_count": null,
      "outputs": [
        {
          "output_type": "execute_result",
          "data": {
            "text/plain": [
              "\"\\nparser = argparse.ArgumentParser()\\nparser.add_argument(\\n    '--epochs',\\n    default=10,\\n    help='number of epochs to train for',\\n    type=int\\n)\\nparser.add_argument(\\n    '--lr',\\n    default=0.0001,\\n    help='learning rate for optimizer',\\n    type=float\\n)\\nparser.add_argument(\\n    '--batch',\\n    default=4,\\n    help='batch size for data loader',\\n    type=int\\n)\\nparser.add_argument(\\n    '--imgsz', \\n    default=512,\\n    type=int\\n)\\nparser.add_argument(\\n    '--scheduler',\\n    action='store_true',\\n)\\nargs = parser.parse_args()\\nprint(args)\\n\""
            ],
            "application/vnd.google.colaboratory.intrinsic+json": {
              "type": "string"
            }
          },
          "metadata": {},
          "execution_count": 3
        }
      ]
    },
    {
      "cell_type": "code",
      "source": [
        "if __name__ == '__main__':\n",
        "    # Create a directory with the model name for outputs.\n",
        "    out_dir = '/content/drive/My Drive/segmentation_codes/outputs/'\n",
        "    out_dir_valid_preds = os.path.join(out_dir, 'valid_preds')\n",
        "    os.makedirs(out_dir, exist_ok=True)\n",
        "    os.makedirs(out_dir_valid_preds, exist_ok=True)\n",
        "\n",
        "    device = torch.device('cuda:0' if torch.cuda.is_available() else 'cpu')\n",
        "    model = model.prepare_model(num_classes=len(config.ALL_CLASSES)).to(device)\n",
        "    # Total parameters and trainable parameters.\n",
        "    total_params = sum(p.numel() for p in model.parameters())\n",
        "    print(f\"{total_params:,} total parameters.\")\n",
        "    total_trainable_params = sum(\n",
        "        p.numel() for p in model.parameters() if p.requires_grad)\n",
        "    print(f\"{total_trainable_params:,} training parameters.\")\n",
        "\n",
        "    optimizer = torch.optim.Adam(model.parameters(), lr=lr)\n",
        "    criterion = nn.CrossEntropyLoss()\n",
        "\n",
        "    train_images, train_masks, valid_images, valid_masks = datasets.get_images(\n",
        "        root_path='/content/drive/My Drive/galaxy_segmentation/'    \n",
        "    )\n",
        "\n",
        "    classes_to_train = config.ALL_CLASSES\n",
        "\n",
        "    train_dataset, valid_dataset = datasets.get_dataset(\n",
        "        train_images, \n",
        "        train_masks,\n",
        "        valid_images,\n",
        "        valid_masks,\n",
        "        config.ALL_CLASSES,\n",
        "        classes_to_train,\n",
        "        config.LABEL_COLORS_LIST,\n",
        "        img_size=imgsz\n",
        "    )\n",
        "\n",
        "    train_dataloader, valid_dataloader = datasets.get_data_loaders(\n",
        "        train_dataset, valid_dataset, batch_size=batch\n",
        "    )\n",
        "\n",
        "    # Initialize `SaveBestModel` class.\n",
        "    save_best_model = utils.SaveBestModel()\n",
        "    # LR Scheduler.\n",
        "    scheduler = torch.optim.lr_scheduler.StepLR(optimizer, step_size=25, gamma=0.1, verbose=True)\n",
        "\n",
        "    EPOCHS = epochs\n",
        "    train_loss, train_pix_acc = [], []\n",
        "    valid_loss, valid_pix_acc = [], []\n",
        "    for epoch in range (EPOCHS):\n",
        "        print(f\"EPOCH: {epoch + 1}\")\n",
        "        train_epoch_loss, train_epoch_pixacc = engine.train(\n",
        "            model,\n",
        "            train_dataset,\n",
        "            train_dataloader,\n",
        "            device,\n",
        "            optimizer,\n",
        "            criterion,\n",
        "            classes_to_train\n",
        "        )\n",
        "        valid_epoch_loss, valid_epoch_pixacc = engine.validate(\n",
        "            model,\n",
        "            valid_dataset,\n",
        "            valid_dataloader,\n",
        "            device,\n",
        "            criterion,\n",
        "            classes_to_train,\n",
        "            config.LABEL_COLORS_LIST,\n",
        "            epoch,\n",
        "            config.ALL_CLASSES,\n",
        "            save_dir=out_dir_valid_preds\n",
        "        )\n",
        "        train_loss.append(train_epoch_loss)\n",
        "        train_pix_acc.append(train_epoch_pixacc.cpu())\n",
        "        valid_loss.append(valid_epoch_loss)\n",
        "        valid_pix_acc.append(valid_epoch_pixacc.cpu())\n",
        "\n",
        "        save_best_model(\n",
        "            valid_epoch_loss, epoch, model, out_dir\n",
        "        )\n",
        "\n",
        "        print(f\"Train Epoch Loss: {train_epoch_loss:.4f}, Train Epoch PixAcc: {train_epoch_pixacc:.4f}\")\n",
        "        print(f\"Valid Epoch Loss: {valid_epoch_loss:.4f}, Valid Epoch PixAcc: {valid_epoch_pixacc:.4f}\")\n",
        "        if scheduler:\n",
        "            scheduler.step()\n",
        "        print('-' * 50)\n",
        "\n",
        "    utils.save_model(EPOCHS, model, optimizer, criterion, out_dir)\n",
        "    # Save the loss and accuracy plots.\n",
        "    utils.save_plots(\n",
        "        train_pix_acc, valid_pix_acc, train_loss, valid_loss, out_dir\n",
        "    )\n",
        "    print('TRAINING COMPLETE')"
      ],
      "metadata": {
        "id": "IZEegyZcMyZc",
        "colab": {
          "base_uri": "https://localhost:8080/"
        },
        "outputId": "f20ee9d6-8c97-4712-905d-d9df581f3c9e"
      },
      "execution_count": null,
      "outputs": [
        {
          "output_type": "stream",
          "name": "stdout",
          "text": [
            "41,995,336 total parameters.\n",
            "41,995,336 training parameters.\n",
            "Adjusting learning rate of group 0 to 1.0000e-04.\n",
            "EPOCH: 1\n",
            "Training\n"
          ]
        },
        {
          "output_type": "stream",
          "name": "stderr",
          "text": [
            "\r  0%|                    | 0/93 [00:00<?, ?it/s]/usr/local/lib/python3.9/dist-packages/albumentations/augmentations/functional.py:764: UserWarning: Image compression augmentation is most effective with uint8 inputs, float32 is used as input.\n",
            "  warn(\n",
            "Loss: 0.3569 | PixAcc: 35.30: 100%|████████████████████| 93/93 [06:16<00:00,  4.05s/it]\n"
          ]
        },
        {
          "output_type": "stream",
          "name": "stdout",
          "text": [
            "Validating\n"
          ]
        },
        {
          "output_type": "stream",
          "name": "stderr",
          "text": [
            "Loss: 0.3788 | PixAcc: 30.41: 100%|████████████████████| 9/9 [00:11<00:00,  1.30s/it]\n"
          ]
        },
        {
          "output_type": "stream",
          "name": "stdout",
          "text": [
            "\n",
            "Best validation loss: 0.3826296793089973\n",
            "\n",
            "Saving best model for epoch: 1\n",
            "\n",
            "Train Epoch Loss: 0.6300, Train Epoch PixAcc: 21.3965\n",
            "Valid Epoch Loss: 0.3826, Valid Epoch PixAcc: 31.2295\n",
            "Adjusting learning rate of group 0 to 1.0000e-04.\n",
            "--------------------------------------------------\n",
            "EPOCH: 2\n",
            "Training\n"
          ]
        },
        {
          "output_type": "stream",
          "name": "stderr",
          "text": [
            "Loss: 0.1906 | PixAcc: 48.75: 100%|████████████████████| 93/93 [05:42<00:00,  3.69s/it]\n"
          ]
        },
        {
          "output_type": "stream",
          "name": "stdout",
          "text": [
            "Validating\n"
          ]
        },
        {
          "output_type": "stream",
          "name": "stderr",
          "text": [
            "Loss: 0.2697 | PixAcc: 35.32: 100%|████████████████████| 9/9 [00:11<00:00,  1.29s/it]\n"
          ]
        },
        {
          "output_type": "stream",
          "name": "stdout",
          "text": [
            "\n",
            "Best validation loss: 0.2848027249177297\n",
            "\n",
            "Saving best model for epoch: 2\n",
            "\n",
            "Train Epoch Loss: 0.2696, Train Epoch PixAcc: 23.4389\n",
            "Valid Epoch Loss: 0.2848, Valid Epoch PixAcc: 31.7268\n",
            "Adjusting learning rate of group 0 to 1.0000e-04.\n",
            "--------------------------------------------------\n",
            "EPOCH: 3\n",
            "Training\n"
          ]
        },
        {
          "output_type": "stream",
          "name": "stderr",
          "text": [
            "Loss: 0.1210 | PixAcc: 50.53: 100%|████████████████████| 93/93 [05:43<00:00,  3.69s/it]\n"
          ]
        },
        {
          "output_type": "stream",
          "name": "stdout",
          "text": [
            "Validating\n"
          ]
        },
        {
          "output_type": "stream",
          "name": "stderr",
          "text": [
            "Loss: 0.1331 | PixAcc: 34.89: 100%|████████████████████| 9/9 [00:11<00:00,  1.29s/it]\n"
          ]
        },
        {
          "output_type": "stream",
          "name": "stdout",
          "text": [
            "\n",
            "Best validation loss: 0.1366671340333091\n",
            "\n",
            "Saving best model for epoch: 3\n",
            "\n",
            "Train Epoch Loss: 0.1613, Train Epoch PixAcc: 27.2303\n",
            "Valid Epoch Loss: 0.1367, Valid Epoch PixAcc: 41.3743\n",
            "Adjusting learning rate of group 0 to 1.0000e-04.\n",
            "--------------------------------------------------\n",
            "EPOCH: 4\n",
            "Training\n"
          ]
        },
        {
          "output_type": "stream",
          "name": "stderr",
          "text": [
            "Loss: 0.0889 | PixAcc: 48.60: 100%|████████████████████| 93/93 [05:43<00:00,  3.69s/it]\n"
          ]
        },
        {
          "output_type": "stream",
          "name": "stdout",
          "text": [
            "Validating\n"
          ]
        },
        {
          "output_type": "stream",
          "name": "stderr",
          "text": [
            "Loss: 0.0825 | PixAcc: 37.89: 100%|████████████████████| 9/9 [00:11<00:00,  1.32s/it]\n"
          ]
        },
        {
          "output_type": "stream",
          "name": "stdout",
          "text": [
            "\n",
            "Best validation loss: 0.08562260783380932\n",
            "\n",
            "Saving best model for epoch: 4\n",
            "\n",
            "Train Epoch Loss: 0.1117, Train Epoch PixAcc: 31.4461\n",
            "Valid Epoch Loss: 0.0856, Valid Epoch PixAcc: 45.5546\n",
            "Adjusting learning rate of group 0 to 1.0000e-04.\n",
            "--------------------------------------------------\n",
            "EPOCH: 5\n",
            "Training\n"
          ]
        },
        {
          "output_type": "stream",
          "name": "stderr",
          "text": [
            "Loss: 0.0666 | PixAcc: 57.00: 100%|████████████████████| 93/93 [05:43<00:00,  3.69s/it]\n"
          ]
        },
        {
          "output_type": "stream",
          "name": "stdout",
          "text": [
            "Validating\n"
          ]
        },
        {
          "output_type": "stream",
          "name": "stderr",
          "text": [
            "Loss: 0.0811 | PixAcc: 50.59: 100%|████████████████████| 9/9 [00:11<00:00,  1.28s/it]\n"
          ]
        },
        {
          "output_type": "stream",
          "name": "stdout",
          "text": [
            "\n",
            "Best validation loss: 0.07640748884942797\n",
            "\n",
            "Saving best model for epoch: 5\n",
            "\n",
            "Train Epoch Loss: 0.0841, Train Epoch PixAcc: 39.5985\n",
            "Valid Epoch Loss: 0.0764, Valid Epoch PixAcc: 59.6412\n",
            "Adjusting learning rate of group 0 to 1.0000e-04.\n",
            "--------------------------------------------------\n",
            "EPOCH: 6\n",
            "Training\n"
          ]
        },
        {
          "output_type": "stream",
          "name": "stderr",
          "text": [
            "Loss: 0.0562 | PixAcc: 57.73: 100%|████████████████████| 93/93 [05:43<00:00,  3.69s/it]\n"
          ]
        },
        {
          "output_type": "stream",
          "name": "stdout",
          "text": [
            "Validating\n"
          ]
        },
        {
          "output_type": "stream",
          "name": "stderr",
          "text": [
            "Loss: 0.0537 | PixAcc: 50.37: 100%|████████████████████| 9/9 [00:11<00:00,  1.28s/it]\n"
          ]
        },
        {
          "output_type": "stream",
          "name": "stdout",
          "text": [
            "\n",
            "Best validation loss: 0.05656482610437605\n",
            "\n",
            "Saving best model for epoch: 6\n",
            "\n",
            "Train Epoch Loss: 0.0688, Train Epoch PixAcc: 41.3674\n",
            "Valid Epoch Loss: 0.0566, Valid Epoch PixAcc: 57.7686\n",
            "Adjusting learning rate of group 0 to 1.0000e-04.\n",
            "--------------------------------------------------\n",
            "EPOCH: 7\n",
            "Training\n"
          ]
        },
        {
          "output_type": "stream",
          "name": "stderr",
          "text": [
            "Loss: 0.0482 | PixAcc: 55.10: 100%|████████████████████| 93/93 [05:43<00:00,  3.70s/it]\n"
          ]
        },
        {
          "output_type": "stream",
          "name": "stdout",
          "text": [
            "Validating\n"
          ]
        },
        {
          "output_type": "stream",
          "name": "stderr",
          "text": [
            "Loss: 0.0512 | PixAcc: 51.79: 100%|████████████████████| 9/9 [00:11<00:00,  1.27s/it]\n"
          ]
        },
        {
          "output_type": "stream",
          "name": "stdout",
          "text": [
            "\n",
            "Best validation loss: 0.05374392825696203\n",
            "\n",
            "Saving best model for epoch: 7\n",
            "\n",
            "Train Epoch Loss: 0.0591, Train Epoch PixAcc: 43.8860\n",
            "Valid Epoch Loss: 0.0537, Valid Epoch PixAcc: 59.8148\n",
            "Adjusting learning rate of group 0 to 1.0000e-04.\n",
            "--------------------------------------------------\n",
            "EPOCH: 8\n",
            "Training\n"
          ]
        },
        {
          "output_type": "stream",
          "name": "stderr",
          "text": [
            "Loss: 0.0447 | PixAcc: 54.87: 100%|████████████████████| 93/93 [05:43<00:00,  3.70s/it]\n"
          ]
        },
        {
          "output_type": "stream",
          "name": "stdout",
          "text": [
            "Validating\n"
          ]
        },
        {
          "output_type": "stream",
          "name": "stderr",
          "text": [
            "Loss: 0.0481 | PixAcc: 57.03: 100%|████████████████████| 9/9 [00:11<00:00,  1.28s/it]\n"
          ]
        },
        {
          "output_type": "stream",
          "name": "stdout",
          "text": [
            "\n",
            "Best validation loss: 0.05137151603897413\n",
            "\n",
            "Saving best model for epoch: 8\n",
            "\n",
            "Train Epoch Loss: 0.0526, Train Epoch PixAcc: 45.0765\n",
            "Valid Epoch Loss: 0.0514, Valid Epoch PixAcc: 64.4512\n",
            "Adjusting learning rate of group 0 to 1.0000e-04.\n",
            "--------------------------------------------------\n",
            "EPOCH: 9\n",
            "Training\n"
          ]
        },
        {
          "output_type": "stream",
          "name": "stderr",
          "text": [
            "Loss: 0.0405 | PixAcc: 55.25: 100%|████████████████████| 93/93 [05:45<00:00,  3.71s/it]\n"
          ]
        },
        {
          "output_type": "stream",
          "name": "stdout",
          "text": [
            "Validating\n"
          ]
        },
        {
          "output_type": "stream",
          "name": "stderr",
          "text": [
            "Loss: 0.0385 | PixAcc: 49.34: 100%|████████████████████| 9/9 [00:11<00:00,  1.32s/it]\n"
          ]
        },
        {
          "output_type": "stream",
          "name": "stdout",
          "text": [
            "\n",
            "Best validation loss: 0.03970332360929913\n",
            "\n",
            "Saving best model for epoch: 9\n",
            "\n",
            "Train Epoch Loss: 0.0482, Train Epoch PixAcc: 45.5573\n",
            "Valid Epoch Loss: 0.0397, Valid Epoch PixAcc: 54.9068\n",
            "Adjusting learning rate of group 0 to 1.0000e-04.\n",
            "--------------------------------------------------\n",
            "EPOCH: 10\n",
            "Training\n"
          ]
        },
        {
          "output_type": "stream",
          "name": "stderr",
          "text": [
            "Loss: 0.0351 | PixAcc: 58.29: 100%|████████████████████| 93/93 [05:45<00:00,  3.71s/it]\n"
          ]
        },
        {
          "output_type": "stream",
          "name": "stdout",
          "text": [
            "Validating\n"
          ]
        },
        {
          "output_type": "stream",
          "name": "stderr",
          "text": [
            "Loss: 0.0357 | PixAcc: 50.65: 100%|████████████████████| 9/9 [00:11<00:00,  1.31s/it]\n"
          ]
        },
        {
          "output_type": "stream",
          "name": "stdout",
          "text": [
            "\n",
            "Best validation loss: 0.03699588547978136\n",
            "\n",
            "Saving best model for epoch: 10\n",
            "\n",
            "Train Epoch Loss: 0.0440, Train Epoch PixAcc: 47.8622\n",
            "Valid Epoch Loss: 0.0370, Valid Epoch PixAcc: 61.3300\n",
            "Adjusting learning rate of group 0 to 1.0000e-04.\n",
            "--------------------------------------------------\n",
            "EPOCH: 11\n",
            "Training\n"
          ]
        },
        {
          "output_type": "stream",
          "name": "stderr",
          "text": [
            "Loss: 0.0343 | PixAcc: 61.52: 100%|████████████████████| 93/93 [05:45<00:00,  3.71s/it]\n"
          ]
        },
        {
          "output_type": "stream",
          "name": "stdout",
          "text": [
            "Validating\n"
          ]
        },
        {
          "output_type": "stream",
          "name": "stderr",
          "text": [
            "Loss: 0.0381 | PixAcc: 45.87: 100%|████████████████████| 9/9 [00:11<00:00,  1.31s/it]\n"
          ]
        },
        {
          "output_type": "stream",
          "name": "stdout",
          "text": [
            "Train Epoch Loss: 0.0412, Train Epoch PixAcc: 47.9593\n",
            "Valid Epoch Loss: 0.0374, Valid Epoch PixAcc: 60.0279\n",
            "Adjusting learning rate of group 0 to 1.0000e-04.\n",
            "--------------------------------------------------\n",
            "EPOCH: 12\n",
            "Training\n"
          ]
        },
        {
          "output_type": "stream",
          "name": "stderr",
          "text": [
            "Loss: 0.0305 | PixAcc: 65.06: 100%|████████████████████| 93/93 [05:44<00:00,  3.71s/it]\n"
          ]
        },
        {
          "output_type": "stream",
          "name": "stdout",
          "text": [
            "Validating\n"
          ]
        },
        {
          "output_type": "stream",
          "name": "stderr",
          "text": [
            "Loss: 0.0358 | PixAcc: 53.57: 100%|████████████████████| 9/9 [00:11<00:00,  1.30s/it]\n"
          ]
        },
        {
          "output_type": "stream",
          "name": "stdout",
          "text": [
            "\n",
            "Best validation loss: 0.03474082611501217\n",
            "\n",
            "Saving best model for epoch: 12\n",
            "\n",
            "Train Epoch Loss: 0.0394, Train Epoch PixAcc: 49.3041\n",
            "Valid Epoch Loss: 0.0347, Valid Epoch PixAcc: 64.6305\n",
            "Adjusting learning rate of group 0 to 1.0000e-04.\n",
            "--------------------------------------------------\n",
            "EPOCH: 13\n",
            "Training\n"
          ]
        },
        {
          "output_type": "stream",
          "name": "stderr",
          "text": [
            "Loss: 0.0314 | PixAcc: 60.74: 100%|████████████████████| 93/93 [05:44<00:00,  3.71s/it]\n"
          ]
        },
        {
          "output_type": "stream",
          "name": "stdout",
          "text": [
            "Validating\n"
          ]
        },
        {
          "output_type": "stream",
          "name": "stderr",
          "text": [
            "Loss: 0.0309 | PixAcc: 56.67: 100%|████████████████████| 9/9 [00:11<00:00,  1.26s/it]\n"
          ]
        },
        {
          "output_type": "stream",
          "name": "stdout",
          "text": [
            "\n",
            "Best validation loss: 0.03351171956294113\n",
            "\n",
            "Saving best model for epoch: 13\n",
            "\n",
            "Train Epoch Loss: 0.0381, Train Epoch PixAcc: 49.1795\n",
            "Valid Epoch Loss: 0.0335, Valid Epoch PixAcc: 62.8918\n",
            "Adjusting learning rate of group 0 to 1.0000e-04.\n",
            "--------------------------------------------------\n",
            "EPOCH: 14\n",
            "Training\n"
          ]
        },
        {
          "output_type": "stream",
          "name": "stderr",
          "text": [
            "Loss: 0.0299 | PixAcc: 54.71: 100%|████████████████████| 93/93 [05:44<00:00,  3.71s/it]\n"
          ]
        },
        {
          "output_type": "stream",
          "name": "stdout",
          "text": [
            "Validating\n"
          ]
        },
        {
          "output_type": "stream",
          "name": "stderr",
          "text": [
            "Loss: 0.0297 | PixAcc: 50.79: 100%|████████████████████| 9/9 [00:11<00:00,  1.27s/it]\n"
          ]
        },
        {
          "output_type": "stream",
          "name": "stdout",
          "text": [
            "Train Epoch Loss: 0.0360, Train Epoch PixAcc: 50.9862\n",
            "Valid Epoch Loss: 0.0339, Valid Epoch PixAcc: 58.6215\n",
            "Adjusting learning rate of group 0 to 1.0000e-04.\n",
            "--------------------------------------------------\n",
            "EPOCH: 15\n",
            "Training\n"
          ]
        },
        {
          "output_type": "stream",
          "name": "stderr",
          "text": [
            "Loss: 0.0275 | PixAcc: 64.98: 100%|████████████████████| 93/93 [05:44<00:00,  3.70s/it]\n"
          ]
        },
        {
          "output_type": "stream",
          "name": "stdout",
          "text": [
            "Validating\n"
          ]
        },
        {
          "output_type": "stream",
          "name": "stderr",
          "text": [
            "Loss: 0.0273 | PixAcc: 53.16: 100%|████████████████████| 9/9 [00:11<00:00,  1.30s/it]\n"
          ]
        },
        {
          "output_type": "stream",
          "name": "stdout",
          "text": [
            "\n",
            "Best validation loss: 0.030194537300202582\n",
            "\n",
            "Saving best model for epoch: 15\n",
            "\n",
            "Train Epoch Loss: 0.0359, Train Epoch PixAcc: 50.2971\n",
            "Valid Epoch Loss: 0.0302, Valid Epoch PixAcc: 62.3796\n",
            "Adjusting learning rate of group 0 to 1.0000e-04.\n",
            "--------------------------------------------------\n",
            "EPOCH: 16\n",
            "Training\n"
          ]
        },
        {
          "output_type": "stream",
          "name": "stderr",
          "text": [
            "Loss: 0.0293 | PixAcc: 54.57: 100%|████████████████████| 93/93 [05:43<00:00,  3.70s/it]\n"
          ]
        },
        {
          "output_type": "stream",
          "name": "stdout",
          "text": [
            "Validating\n"
          ]
        },
        {
          "output_type": "stream",
          "name": "stderr",
          "text": [
            "Loss: 0.0277 | PixAcc: 55.55: 100%|████████████████████| 9/9 [00:11<00:00,  1.29s/it]\n"
          ]
        },
        {
          "output_type": "stream",
          "name": "stdout",
          "text": [
            "\n",
            "Best validation loss: 0.029448346545298893\n",
            "\n",
            "Saving best model for epoch: 16\n",
            "\n",
            "Train Epoch Loss: 0.0338, Train Epoch PixAcc: 52.0543\n",
            "Valid Epoch Loss: 0.0294, Valid Epoch PixAcc: 61.6704\n",
            "Adjusting learning rate of group 0 to 1.0000e-04.\n",
            "--------------------------------------------------\n",
            "EPOCH: 17\n",
            "Training\n"
          ]
        },
        {
          "output_type": "stream",
          "name": "stderr",
          "text": [
            "Loss: 0.0252 | PixAcc: 70.70: 100%|████████████████████| 93/93 [05:44<00:00,  3.70s/it]\n"
          ]
        },
        {
          "output_type": "stream",
          "name": "stdout",
          "text": [
            "Validating\n"
          ]
        },
        {
          "output_type": "stream",
          "name": "stderr",
          "text": [
            "Loss: 0.0307 | PixAcc: 60.74: 100%|████████████████████| 9/9 [00:11<00:00,  1.30s/it]\n"
          ]
        },
        {
          "output_type": "stream",
          "name": "stdout",
          "text": [
            "Train Epoch Loss: 0.0325, Train Epoch PixAcc: 54.0391\n",
            "Valid Epoch Loss: 0.0318, Valid Epoch PixAcc: 65.6215\n",
            "Adjusting learning rate of group 0 to 1.0000e-04.\n",
            "--------------------------------------------------\n",
            "EPOCH: 18\n",
            "Training\n"
          ]
        },
        {
          "output_type": "stream",
          "name": "stderr",
          "text": [
            "Loss: 0.0306 | PixAcc: 59.64: 100%|████████████████████| 93/93 [05:43<00:00,  3.70s/it]\n"
          ]
        },
        {
          "output_type": "stream",
          "name": "stdout",
          "text": [
            "Validating\n"
          ]
        },
        {
          "output_type": "stream",
          "name": "stderr",
          "text": [
            "Loss: 0.0276 | PixAcc: 58.51: 100%|████████████████████| 9/9 [00:11<00:00,  1.30s/it]\n"
          ]
        },
        {
          "output_type": "stream",
          "name": "stdout",
          "text": [
            "\n",
            "Best validation loss: 0.028887482566965952\n",
            "\n",
            "Saving best model for epoch: 18\n",
            "\n",
            "Train Epoch Loss: 0.0325, Train Epoch PixAcc: 54.2486\n",
            "Valid Epoch Loss: 0.0289, Valid Epoch PixAcc: 61.2472\n",
            "Adjusting learning rate of group 0 to 1.0000e-04.\n",
            "--------------------------------------------------\n",
            "EPOCH: 19\n",
            "Training\n"
          ]
        },
        {
          "output_type": "stream",
          "name": "stderr",
          "text": [
            "Loss: 0.0282 | PixAcc: 63.60: 100%|████████████████████| 93/93 [05:44<00:00,  3.70s/it]\n"
          ]
        },
        {
          "output_type": "stream",
          "name": "stdout",
          "text": [
            "Validating\n"
          ]
        },
        {
          "output_type": "stream",
          "name": "stderr",
          "text": [
            "Loss: 0.0261 | PixAcc: 54.25: 100%|████████████████████| 9/9 [00:11<00:00,  1.28s/it]\n"
          ]
        },
        {
          "output_type": "stream",
          "name": "stdout",
          "text": [
            "\n",
            "Best validation loss: 0.028161078691482544\n",
            "\n",
            "Saving best model for epoch: 19\n",
            "\n",
            "Train Epoch Loss: 0.0317, Train Epoch PixAcc: 54.1865\n",
            "Valid Epoch Loss: 0.0282, Valid Epoch PixAcc: 60.5312\n",
            "Adjusting learning rate of group 0 to 1.0000e-04.\n",
            "--------------------------------------------------\n",
            "EPOCH: 20\n",
            "Training\n"
          ]
        },
        {
          "output_type": "stream",
          "name": "stderr",
          "text": [
            "Loss: 0.0227 | PixAcc: 70.36: 100%|████████████████████| 93/93 [05:44<00:00,  3.70s/it]\n"
          ]
        },
        {
          "output_type": "stream",
          "name": "stdout",
          "text": [
            "Validating\n"
          ]
        },
        {
          "output_type": "stream",
          "name": "stderr",
          "text": [
            "Loss: 0.0251 | PixAcc: 54.05: 100%|████████████████████| 9/9 [00:11<00:00,  1.27s/it]\n"
          ]
        },
        {
          "output_type": "stream",
          "name": "stdout",
          "text": [
            "Train Epoch Loss: 0.0313, Train Epoch PixAcc: 54.1567\n",
            "Valid Epoch Loss: 0.0287, Valid Epoch PixAcc: 58.1804\n",
            "Adjusting learning rate of group 0 to 1.0000e-04.\n",
            "--------------------------------------------------\n",
            "TRAINING COMPLETE\n"
          ]
        },
        {
          "output_type": "display_data",
          "data": {
            "text/plain": [
              "<Figure size 1000x700 with 1 Axes>"
            ],
            "image/png": "[encoded data removed]"
          },
          "metadata": {}
        },
        {
          "output_type": "display_data",
          "data": {
            "text/plain": [
              "<Figure size 1000x700 with 1 Axes>"
            ],
            "image/png": "[encoded data removed]"
          },
          "metadata": {}
        }
      ]
    }
  ]
}