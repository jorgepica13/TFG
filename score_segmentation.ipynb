{
 "cells": [
  {
   "cell_type": "code",
   "execution_count": 1,
   "id": "cd7ea33c",
   "metadata": {},
   "outputs": [],
   "source": [
    "def es_negro(pix):\n",
    "    if pix[0] == 0 and pix[1] == 0 and pix[2] == 0:\n",
    "        return True\n",
    "    return False\n",
    "\n",
    "def es_blanco(pix):\n",
    "    if pix[0] == 255 and pix[1] == 255 and pix[2] == 255:\n",
    "        return True\n",
    "    return False\n",
    "\n",
    "def es_rojo(pix):\n",
    "    if pix[0] == 0 and pix[1] == 0 and pix[2] == 255:\n",
    "        return True\n",
    "    return False"
   ]
  },
  {
   "cell_type": "code",
   "execution_count": 2,
   "id": "efb5718c",
   "metadata": {},
   "outputs": [
    {
     "name": "stdout",
     "output_type": "stream",
     "text": [
      "C:/Users/jorge/Desktop/seg_binary/test_masks/Dr7_587728931871523021.png\n",
      "C:/Users/jorge/Desktop/seg_binary/inference_results/Dr7_587728931871523021.png \n",
      "\n",
      "C:/Users/jorge/Desktop/seg_binary/test_masks/Dr7_587731187282477155.png\n",
      "C:/Users/jorge/Desktop/seg_binary/inference_results/Dr7_587731187282477155.png \n",
      "\n",
      "C:/Users/jorge/Desktop/seg_binary/test_masks/Dr7_587731521203798086.png\n",
      "C:/Users/jorge/Desktop/seg_binary/inference_results/Dr7_587731521203798086.png \n",
      "\n",
      "C:/Users/jorge/Desktop/seg_binary/test_masks/Dr7_587731886805090485.png\n",
      "C:/Users/jorge/Desktop/seg_binary/inference_results/Dr7_587731886805090485.png \n",
      "\n",
      "C:/Users/jorge/Desktop/seg_binary/test_masks/Dr7_587732578831761637.png\n",
      "C:/Users/jorge/Desktop/seg_binary/inference_results/Dr7_587732578831761637.png \n",
      "\n",
      "C:/Users/jorge/Desktop/seg_binary/test_masks/Dr7_587737808490594409.png\n",
      "C:/Users/jorge/Desktop/seg_binary/inference_results/Dr7_587737808490594409.png \n",
      "\n",
      "C:/Users/jorge/Desktop/seg_binary/test_masks/Dr7_587737809564467360.png\n",
      "C:/Users/jorge/Desktop/seg_binary/inference_results/Dr7_587737809564467360.png \n",
      "\n",
      "C:/Users/jorge/Desktop/seg_binary/test_masks/Dr7_587741532770598932.png\n",
      "C:/Users/jorge/Desktop/seg_binary/inference_results/Dr7_587741532770598932.png \n",
      "\n",
      "C:/Users/jorge/Desktop/seg_binary/test_masks/Dr7_588015508740964403.png\n",
      "C:/Users/jorge/Desktop/seg_binary/inference_results/Dr7_588015508740964403.png \n",
      "\n",
      "C:/Users/jorge/Desktop/seg_binary/test_masks/Dr7_588016840167391503.png\n",
      "C:/Users/jorge/Desktop/seg_binary/inference_results/Dr7_588016840167391503.png \n",
      "\n"
     ]
    }
   ],
   "source": [
    "import cv2, os\n",
    "\n",
    "real_masks = 'C:/Users/jorge/Desktop/seg_binary/test_masks/'\n",
    "inference_masks = 'C:/Users/jorge/Desktop/seg_binary/inference_results/'\n",
    "contents = os.listdir(inference_masks)\n",
    "\n",
    "precisiones = []\n",
    "for file in contents:\n",
    "    real_file = os.path.join(real_masks, file)\n",
    "    inference_file = os.path.join(inference_masks, file)\n",
    "    if os.path.isfile(real_file) and os.path.isfile(inference_file):\n",
    "        real = cv2.imread(real_file)\n",
    "        inference = cv2.imread(inference_file)\n",
    "        \n",
    "        nreal = real.shape[0]*real.shape[1]\n",
    "        ninference = inference.shape[0]*inference.shape[1]\n",
    "        \n",
    "        aciertos = 0\n",
    "        if nreal == ninference:\n",
    "            for i in range(real.shape[0]):\n",
    "                for j in range(real.shape[1]):\n",
    "                    if es_negro(real[i,j]) and es_negro(inference[i,j]):\n",
    "                        aciertos += 1\n",
    "                    elif es_blanco(real[i,j]) and es_rojo(inference[i,j]):\n",
    "                        aciertos +=1\n",
    "            \n",
    "            score = aciertos/nreal\n",
    "            \n",
    "            if score < 0.99:\n",
    "                print(real_file)\n",
    "                print(inference_file, '\\n')\n",
    "                \n",
    "            precisiones.append(score)\n",
    "            # print(aciertos, ' ', nreal, ' --> ', score)"
   ]
  },
  {
   "cell_type": "code",
   "execution_count": 5,
   "id": "ab691762",
   "metadata": {},
   "outputs": [
    {
     "name": "stdout",
     "output_type": "stream",
     "text": [
      "291\n",
      "0.9892120361328125\n",
      "0.9899749755859375\n",
      "0.9842987060546875\n",
      "0.926513671875\n",
      "0.9863739013671875\n",
      "0.9875030517578125\n",
      "0.9774017333984375\n",
      "0.96868896484375\n",
      "0.9886474609375\n",
      "0.9870452880859375\n"
     ]
    }
   ],
   "source": [
    "print(len(precisiones))\n",
    "# print(precisiones)\n",
    "for i in precisiones:\n",
    "    if i < 0.99:\n",
    "        print(i)"
   ]
  },
  {
   "cell_type": "code",
   "execution_count": null,
   "id": "928329c0",
   "metadata": {},
   "outputs": [],
   "source": []
  },
  {
   "cell_type": "code",
   "execution_count": null,
   "id": "da8ab8dd",
   "metadata": {},
   "outputs": [],
   "source": []
  }
 ],
 "metadata": {
  "kernelspec": {
   "display_name": "Python 3 (ipykernel)",
   "language": "python",
   "name": "python3"
  },
  "language_info": {
   "codemirror_mode": {
    "name": "ipython",
    "version": 3
   },
   "file_extension": ".py",
   "mimetype": "text/x-python",
   "name": "python",
   "nbconvert_exporter": "python",
   "pygments_lexer": "ipython3",
   "version": "3.10.9"
  }
 },
 "nbformat": 4,
 "nbformat_minor": 5
}
